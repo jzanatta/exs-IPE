{
  "nbformat": 4,
  "nbformat_minor": 0,
  "metadata": {
    "colab": {
      "provenance": [],
      "authorship_tag": "ABX9TyNV7E8/Je0gc/mGpmFN9c+6",
      "include_colab_link": true
    },
    "kernelspec": {
      "name": "python3",
      "display_name": "Python 3"
    },
    "language_info": {
      "name": "python"
    }
  },
  "cells": [
    {
      "cell_type": "markdown",
      "metadata": {
        "id": "view-in-github",
        "colab_type": "text"
      },
      "source": [
        "<a href=\"https://colab.research.google.com/github/jzanatta/exs-IPE/blob/main/Lista_NP2_IPE.ipynb\" target=\"_parent\"><img src=\"https://colab.research.google.com/assets/colab-badge.svg\" alt=\"Open In Colab\"/></a>"
      ]
    },
    {
      "cell_type": "code",
      "execution_count": 2,
      "metadata": {
        "id": "Ld6pcOFCFQA1",
        "colab": {
          "base_uri": "https://localhost:8080/"
        },
        "outputId": "0148e5df-4ce3-4d7c-cf92-53fdbc5c9c99"
      },
      "outputs": [
        {
          "output_type": "stream",
          "name": "stdout",
          "text": [
            "quanto tempo foi gasto na viagem? (em horas) 2\n",
            "qual a velocidade media da viagem? (em km/h) 60\n",
            "o tempo total gasto foi de:  2.0 horas\n",
            "a velocidade media da viagem foi de:  60.0 km/h\n",
            "a distacia percorrida na viagem foi de:  120.0 km\n",
            "e a o total de litros de combustivel utilizados foi de:  10.0\n"
          ]
        }
      ],
      "source": [
        "#1 - calculo de combustivel gasto\n",
        "kmPorLitro = 12\n",
        "tempo = float(input('quanto tempo foi gasto na viagem? (em horas) '))\n",
        "velocidadeMedia = float(input('qual a velocidade media da viagem? (em km/h) '))\n",
        "distancia = tempo * velocidadeMedia\n",
        "litros_usados = distancia/kmPorLitro\n",
        "\n",
        "print('o tempo total gasto foi de: ',tempo,'horas')\n",
        "print('a velocidade media da viagem foi de: ',velocidadeMedia,'km/h')\n",
        "print('a distacia percorrida na viagem foi de: ',distancia,'km')\n",
        "print('e a o total de litros de combustivel utilizados foi de: ',litros_usados)"
      ]
    },
    {
      "cell_type": "code",
      "source": [
        "#2 - encontrar o delta\n",
        "a= int(input('entre com o valor de A: '))\n",
        "b= int(input('entre com o valor de B: '))\n",
        "c= int(input('entre com o valor de C: '))\n",
        "\n",
        "print('o valor do delta é: ', b*b-4*a*c)"
      ],
      "metadata": {
        "colab": {
          "base_uri": "https://localhost:8080/"
        },
        "id": "kDK_3T0Ve6Us",
        "outputId": "744ae6a1-84fb-4d48-9fcc-5fa5892fc728"
      },
      "execution_count": 3,
      "outputs": [
        {
          "output_type": "stream",
          "name": "stdout",
          "text": [
            "entre com o valor de A: 10\n",
            "entre com o valor de B: 10\n",
            "entre com o valor de C: 10\n",
            "o valor do delta é:  -300\n"
          ]
        }
      ]
    },
    {
      "cell_type": "code",
      "source": [
        "#3 - qual a velocidade media \n",
        "distancia = float(input('qual a distancia do trajeto: (em km) '))\n",
        "tempo = float(input('quanto tempo durou o percurso: (em horas)'))\n",
        "\n",
        "v=distancia/tempo\n",
        "print('a velocidade média no trajeto foi de ',v,'km/h')\n",
        "if v > 100:\n",
        "  print('você tomou multa, o limite é 100 km/h')\n",
        "else:\n",
        "  print('voce não tomou multa, respeitou o limite de 100 km/h')"
      ],
      "metadata": {
        "colab": {
          "base_uri": "https://localhost:8080/"
        },
        "id": "slgLQnKdf4Nd",
        "outputId": "2458a3f1-d988-4598-c5c9-84eacacba5a9"
      },
      "execution_count": 6,
      "outputs": [
        {
          "output_type": "stream",
          "name": "stdout",
          "text": [
            "qual a distancia do trajeto: (em km) 100\n",
            "quanto tempo durou o percurso: (em horas).5\n",
            "a velocidade média no trajeto foi de  200.0 km/h\n",
            "você tomou multa, o limite é 100 km/h\n"
          ]
        }
      ]
    },
    {
      "cell_type": "code",
      "source": [
        "#4 - ler 10 numeros e mostrar quantos são maiores ou igual a 5 \n",
        "i=1\n",
        "x=0\n",
        "while i <= 10:\n",
        "  numero = float(input('entre com um numero: '))\n",
        "  if numero > 4:\n",
        "    x= x+1\n",
        "  i=i+1\n",
        "\n",
        "print('a quantidade de numeros maiores ou igual a 5 é: ',x)"
      ],
      "metadata": {
        "colab": {
          "base_uri": "https://localhost:8080/"
        },
        "id": "LsPmY8EthEws",
        "outputId": "66954461-d0a1-420c-df8b-ce74d59691d0"
      },
      "execution_count": 11,
      "outputs": [
        {
          "output_type": "stream",
          "name": "stdout",
          "text": [
            "entre com um numero: 0\n",
            "entre com um numero: 0\n",
            "entre com um numero: 0\n",
            "entre com um numero: 15\n",
            "entre com um numero: 25\n",
            "entre com um numero: 35\n",
            "entre com um numero: 0\n",
            "entre com um numero: 0\n",
            "entre com um numero: 45\n",
            "entre com um numero: 0\n",
            "a quantidade de numeros maiores ou igual a 5 é:  4\n"
          ]
        }
      ]
    },
    {
      "cell_type": "code",
      "source": [
        "#5 - somar duas listas em uma terceira lista\n",
        "a = [1,2,3,4]\n",
        "b = [10,10,10,10]\n",
        "\n",
        "c= [a[0]+b[0],a[1]+b[1],a[2]+b[2],a[3]+b[3]]\n",
        "print(c)"
      ],
      "metadata": {
        "colab": {
          "base_uri": "https://localhost:8080/"
        },
        "id": "RLceZrH1iS0F",
        "outputId": "46a22d85-64c2-4808-e7ae-1417c4b427e9"
      },
      "execution_count": 13,
      "outputs": [
        {
          "output_type": "stream",
          "name": "stdout",
          "text": [
            "[11, 12, 13, 14]\n"
          ]
        }
      ]
    },
    {
      "cell_type": "code",
      "source": [
        "#6 - calculadora, receber dois numeros e um operador e apresentar o resultados\n",
        "a = float(input('entre com o primeiro valor: '))\n",
        "b = float(input('entre com o segundo valor: '))\n",
        "o = str(input('entre com o operador: '))\n",
        "if o == '+':\n",
        "  print(a+b)\n",
        "elif o == '-':\n",
        "  print(a-b)\n",
        "elif o == '/':\n",
        "  print(a/b)\n",
        "elif o == '*':\n",
        "  print(a*b)\n",
        "else: print('erro, operador não identificado')"
      ],
      "metadata": {
        "colab": {
          "base_uri": "https://localhost:8080/"
        },
        "id": "p47qlb9LmGDs",
        "outputId": "007780ee-a9ac-4671-c895-ee09fb1d1234"
      },
      "execution_count": 19,
      "outputs": [
        {
          "output_type": "stream",
          "name": "stdout",
          "text": [
            "entre com o primeiro valor: 67\n",
            "entre com o segundo valor: 13\n",
            "entre com o operador: /\n",
            "5.153846153846154\n"
          ]
        }
      ]
    },
    {
      "cell_type": "code",
      "source": [
        "#7 - funçoes.py\n",
        "def velocidade_media(distancia,tempo):\n",
        "  v=distancia/tempo\n",
        "  return v\n",
        "\n",
        "distancia = 100 \n",
        "tempo = 20 \n",
        "print(velocidade_media(distancia,tempo),'metros por segundo')\n",
        "print('\\n')\n",
        "distancia = 150 \n",
        "tempo = 22 \n",
        "print(velocidade_media(distancia,tempo),'metros por segundo')\n",
        "print('\\n')\n",
        "distancia = 200 \n",
        "tempo = 30 \n",
        "print(velocidade_media(distancia,tempo),'metros por segundo')\n",
        "print('\\n')\n",
        "distancia = 50 \n",
        "tempo = 3\n",
        "print(velocidade_media(distancia,tempo),'metros por segundo')\n",
        "print('\\n')"
      ],
      "metadata": {
        "colab": {
          "base_uri": "https://localhost:8080/"
        },
        "id": "xWizd82JrGDV",
        "outputId": "034a708f-57da-427e-8960-62c23fcbc164"
      },
      "execution_count": 28,
      "outputs": [
        {
          "output_type": "stream",
          "name": "stdout",
          "text": [
            "5.0 metros por segundo\n",
            "\n",
            "\n",
            "6.818181818181818 metros por segundo\n",
            "\n",
            "\n",
            "6.666666666666667 metros por segundo\n",
            "\n",
            "\n",
            "16.666666666666668 metros por segundo\n",
            "\n",
            "\n"
          ]
        }
      ]
    },
    {
      "cell_type": "code",
      "source": [
        "#8 - imprimir varios itens\n",
        "lista = [12, -2, 4, 8, 29, 45, 78, 36, -17, 2, 12, 8, 3, 3, -52]\n",
        "#A\n",
        "print('A)',max(lista),'\\n')\n",
        "\n",
        "#B\n",
        "print('B)',min(lista),'\\n')\n",
        "\n",
        "#C\n",
        "lista2 = []\n",
        "i=0\n",
        "while i<15:\n",
        "  if lista[i] % 2 == 0:\n",
        "    lista2.append(lista[i])\n",
        "  i=i+1\n",
        "print('C)',lista2,'\\n')\n",
        "\n",
        "#D\n",
        "i=0\n",
        "x=0\n",
        "while i<15:\n",
        "  if lista [0] == lista[i]:\n",
        "    x=x+1\n",
        "  i=i+1\n",
        "print('D)',x,'\\n')\n",
        "\n",
        "#E\n",
        "i=0\n",
        "x=0\n",
        "while i<15:\n",
        "  x=x+lista[i]\n",
        "  i=i+1\n",
        "print('E)',x/15,'\\n')\n",
        "\n",
        "#F\n",
        "i=0\n",
        "x=0\n",
        "while i<15:\n",
        "  if lista[i] < 0:\n",
        "    x=x+lista[i]\n",
        "  i=i+1\n",
        "print('F)',x,'\\n')"
      ],
      "metadata": {
        "colab": {
          "base_uri": "https://localhost:8080/"
        },
        "id": "Gqx-wTY3uddn",
        "outputId": "918a3304-538e-4c74-f542-84688c9a4b4d"
      },
      "execution_count": 50,
      "outputs": [
        {
          "output_type": "stream",
          "name": "stdout",
          "text": [
            "A) 78 \n",
            "\n",
            "B) -52 \n",
            "\n",
            "C) [12, -2, 4, 8, 78, 36, 2, 12, 8, -52] \n",
            "\n",
            "D) 2 \n",
            "\n",
            "E) 11.266666666666667 \n",
            "\n",
            "F) -71 \n",
            "\n"
          ]
        }
      ]
    },
    {
      "cell_type": "code",
      "source": [
        "#9 - solicitar senha e confirmar senha\n",
        "i=0\n",
        "senha = str(input('entre com sua senha: '))\n",
        "confirmacao = str(input('confirme sua senha: '))\n",
        "if senha == confirmacao: print('ok')\n",
        "else:\n",
        "  while confirmacao != senha and i<2:\n",
        "    confirmacao = str(input('senhas divergentes, tente novamente: '))\n",
        "    i=i+1\n",
        "  if senha == confirmacao: print('ok')\n",
        "  else: print('tentativas esgotadas')"
      ],
      "metadata": {
        "colab": {
          "base_uri": "https://localhost:8080/"
        },
        "id": "4Qv4LJjiBxQG",
        "outputId": "cb3d0891-9af1-4186-a22d-7564125132ba"
      },
      "execution_count": 40,
      "outputs": [
        {
          "output_type": "stream",
          "name": "stdout",
          "text": [
            "entre com sua senha: joao\n",
            "confirme sua senha: julia\n",
            "senhas divergentes, tente novamente: joao\n",
            "ok\n"
          ]
        }
      ]
    },
    {
      "cell_type": "code",
      "source": [
        "#10 - Gerardor de desculpas\n",
        "import random\n",
        "lista1=[]\n",
        "lista2=[]\n",
        "lista3=[]\n",
        "\n",
        "des = open('desculpa.txt','r')\n",
        "lista1=des.readlines()\n",
        "\n",
        "des = open('sujeito.txt','r')\n",
        "lista2=des.readlines()\n",
        "\n",
        "des = open('acao.txt','r')\n",
        "lista3=des.readlines()\n",
        "\n",
        "print(random.choice(lista1))\n",
        "print(random.choice(lista2))\n",
        "print(random.choice(lista3))"
      ],
      "metadata": {
        "colab": {
          "base_uri": "https://localhost:8080/"
        },
        "id": "wLaqSlZ6Dh_0",
        "outputId": "33a15b4e-0e52-4612-9c4e-5df45b1cb1a5"
      },
      "execution_count": 55,
      "outputs": [
        {
          "output_type": "stream",
          "name": "stdout",
          "text": [
            "Tentei fazer o dever, mas \n",
            "\n",
            "a minha sogra \n",
            "\n",
            "resolveu ir pescar.\n"
          ]
        }
      ]
    }
  ]
}