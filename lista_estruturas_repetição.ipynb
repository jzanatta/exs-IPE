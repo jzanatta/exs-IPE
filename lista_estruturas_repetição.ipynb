{
  "nbformat": 4,
  "nbformat_minor": 0,
  "metadata": {
    "colab": {
      "provenance": [],
      "authorship_tag": "ABX9TyNvisbp6gLR3dcW0UdRbtCG",
      "include_colab_link": true
    },
    "kernelspec": {
      "name": "python3",
      "display_name": "Python 3"
    },
    "language_info": {
      "name": "python"
    }
  },
  "cells": [
    {
      "cell_type": "markdown",
      "metadata": {
        "id": "view-in-github",
        "colab_type": "text"
      },
      "source": [
        "<a href=\"https://colab.research.google.com/github/jzanatta/exs-IPE/blob/main/lista_estruturas_repeti%C3%A7%C3%A3o.ipynb\" target=\"_parent\"><img src=\"https://colab.research.google.com/assets/colab-badge.svg\" alt=\"Open In Colab\"/></a>"
      ]
    },
    {
      "cell_type": "code",
      "execution_count": null,
      "metadata": {
        "colab": {
          "base_uri": "https://localhost:8080/"
        },
        "id": "PKFkxn1EIwgX",
        "outputId": "330ad93b-dd7c-41cb-eb2f-062f16dbd2c2"
      },
      "outputs": [
        {
          "output_type": "stream",
          "name": "stdout",
          "text": [
            "qual sua idade: 18\n",
            "entrada liberada, tem 1 pessoas la dentro no momento\n",
            "qual sua idade: 18\n",
            "entrada liberada, tem 2 pessoas la dentro no momento\n",
            "qual sua idade: 4\n",
            "Entrada proibida\n",
            "qual sua idade: 18\n",
            "entrada liberada, tem 3 pessoas la dentro no momento\n",
            "qual sua idade: 18\n",
            "entrada liberada, tem 4 pessoas la dentro no momento\n",
            "casa lotada\n"
          ]
        }
      ],
      "source": [
        "#ex1 - usando while - controlar a entrada numa boate, só entram maiores e no max 300 pessoas\n",
        "qt=0\n",
        "while qt<300:\n",
        "  pessoa=int(input('qual sua idade: '))\n",
        "  if pessoa<18:\n",
        "    print('Entrada proibida')\n",
        "\n",
        "  else:\n",
        "    qt=qt+1\n",
        "    print('entrada liberada, tem',qt,'pessoas la dentro no momento')\n",
        "print('casa lotada')"
      ]
    },
    {
      "cell_type": "code",
      "source": [
        "#ex2 - usando while - ler RA cadastrar dus notas e ver se passou ou não, fechar quando ra for 0\n",
        "ra=0\n",
        "while ra != '0':\n",
        "  ra=str(input('entre com sua RA: '))\n",
        "  if ra !='0':\n",
        "    n1=float(input('entre com sua N1: '))\n",
        "    n2=float(input('entre com sua N2: '))\n",
        "    m=(n1+n2)/2\n",
        "    if m>=5:\n",
        "      print('aluno de RA: ',ra,' foi aprovado com média',m)\n",
        "    else:\n",
        "      print('aluno de RA: ',ra,' foi reprovado com média', m)\n",
        "  else:\n",
        "    print('fim')"
      ],
      "metadata": {
        "colab": {
          "base_uri": "https://localhost:8080/"
        },
        "id": "THi9C4REMJf7",
        "outputId": "4c40d504-5ff1-4620-f4ca-5013317c77ff"
      },
      "execution_count": null,
      "outputs": [
        {
          "output_type": "stream",
          "name": "stdout",
          "text": [
            "entre com sua RA: x\n",
            "entre com sua N1: 7\n",
            "entre com sua N2: 9\n",
            "aluno de RA:  x  foi aprovado com média 8.0\n",
            "entre com sua RA: x1\n",
            "entre com sua N1: 9\n",
            "entre com sua N2: 10\n",
            "aluno de RA:  x1  foi aprovado com média 9.5\n",
            "entre com sua RA: x2\n",
            "entre com sua N1: 4\n",
            "entre com sua N2: 2\n",
            "aluno de RA:  x2  foi reprovado com média 3.0\n",
            "entre com sua RA: 0\n",
            "fim\n"
          ]
        }
      ]
    },
    {
      "cell_type": "code",
      "source": [
        "#ex3 - lançar as vendas de uma loja entre (1)balcão, (2)telefone e (3)total\n",
        "vendast=0\n",
        "vendasb=0\n",
        "valortotb=0\n",
        "valortott=0\n",
        "valorgeral=0\n",
        "vendasgeral=0\n",
        "x=0\n",
        "while x != 'analisar':\n",
        "  x=str(input('Voce deseja lançar uma venda ou analisar as vendas? (\"v\" para vender ou \"a\" para analisar) '))\n",
        "  if x == 'v':\n",
        "    setor=str(input('qual o setor responsavel? (1-balcão/2-telefone/3-acopanhamento) '))\n",
        "    if setor== '1':\n",
        "      valorb=int(input('qual o valor da venda? '))\n",
        "      if valorb < 0:\n",
        "        print('venda não contabilizada, valor negativo')\n",
        "      else:\n",
        "        vendasb = vendasb + 1\n",
        "        valortotb=valortotb + valorb\n",
        "    else:\n",
        "      if setor== '2':\n",
        "        valort=int(input('qual o valor da venda? '))\n",
        "        if valort < 0:\n",
        "          print('venda não contabilizada, valor negativo')\n",
        "        else:\n",
        "          vendast = vendast + 1\n",
        "          valortott=valortott + valort\n",
        "      else:\n",
        "        if setor== '3':\n",
        "          vendasgeral=vendasb+vendast\n",
        "          valorgeral=valortotb+valortott\n",
        "          print('vendas totais balcão: ',vendasb,' vendas totais telefone: ',vendast, 'vendas totais geral: ', vendasgeral)\n",
        "          print('valor total do balcão: R$',valortotb,' valor total do telefone: R$',valortott,' valor total geral: R$',valorgeral)\n",
        "        else:\n",
        "          print('codigo desconhecido')\n",
        "  else:\n",
        "    if x=='a':\n",
        "      vendasgeral=vendasb+vendast\n",
        "      valorgeral=valortotb+valortott\n",
        "      print('vendas totais balcão: ',vendasb,' vendas totais telefone: ',vendast, 'vendas totais geral: ', vendasgeral)\n",
        "      print('valor total do balcão: R$',valortotb,' valor total do telefone: R$',valortott,' valor total geral: R$',valorgeral)\n",
        "      break\n",
        "    else:\n",
        "      print('valor desconhecido, entre com \"v\" para vender ou \"a\" para analisar as vendas')"
      ],
      "metadata": {
        "colab": {
          "base_uri": "https://localhost:8080/"
        },
        "id": "QkJnOQroQf5l",
        "outputId": "7e20ca69-af0b-447e-e77f-659f13b9e45b"
      },
      "execution_count": null,
      "outputs": [
        {
          "output_type": "stream",
          "name": "stdout",
          "text": [
            "Voce deseja lançar uma venda ou analisar as vendas? (\"v\" para vender ou \"a\" para analisar) v\n",
            "qual o setor responsavel? (1-balcão/2-telefone/3-acopanhamento) 1\n",
            "qual o valor da venda? 100\n",
            "Voce deseja lançar uma venda ou analisar as vendas? (\"v\" para vender ou \"a\" para analisar) c\n",
            "valor desconhecido, entre com \"v\" para vender ou \"a\" para analisar as vendas\n",
            "Voce deseja lançar uma venda ou analisar as vendas? (\"v\" para vender ou \"a\" para analisar) v\n",
            "qual o setor responsavel? (1-balcão/2-telefone/3-acopanhamento) 1\n",
            "qual o valor da venda? 100\n",
            "Voce deseja lançar uma venda ou analisar as vendas? (\"v\" para vender ou \"a\" para analisar) v\n",
            "qual o setor responsavel? (1-balcão/2-telefone/3-acopanhamento) 2\n",
            "qual o valor da venda? 100\n",
            "Voce deseja lançar uma venda ou analisar as vendas? (\"v\" para vender ou \"a\" para analisar) v\n",
            "qual o setor responsavel? (1-balcão/2-telefone/3-acopanhamento) 3\n",
            "vendas totais balcão:  2  vendas totais telefone:  1 vendas totais geral:  3\n",
            "valor total do balcão: R$ 200  valor total do telefone: R$ 100  valor total geral: R$ 300\n",
            "Voce deseja lançar uma venda ou analisar as vendas? (\"v\" para vender ou \"a\" para analisar) v\n",
            "qual o setor responsavel? (1-balcão/2-telefone/3-acopanhamento) 2\n",
            "qual o valor da venda? 400\n",
            "Voce deseja lançar uma venda ou analisar as vendas? (\"v\" para vender ou \"a\" para analisar) v\n",
            "qual o setor responsavel? (1-balcão/2-telefone/3-acopanhamento) 2\n",
            "qual o valor da venda? -90\n",
            "venda não contabilizada, valor negativo\n",
            "Voce deseja lançar uma venda ou analisar as vendas? (\"v\" para vender ou \"a\" para analisar) a\n",
            "vendas totais balcão:  2  vendas totais telefone:  2 vendas totais geral:  4\n",
            "valor total do balcão: R$ 200  valor total do telefone: R$ 500  valor total geral: R$ 700\n"
          ]
        }
      ]
    },
    {
      "cell_type": "code",
      "source": [
        "#ex4 - usando FOR - total gasto com pedagio em um ano inserindo o valor por mes, mostrando sempre o acumulado mensal (mensagem de erro para valores negativos usando while )\n",
        "xt=0\n",
        "for i in range (1,13):\n",
        "  x=float(input('entre com o valor gasto no mês: '))\n",
        "  while x<0:\n",
        "    x=float(input('valor negativo, inserir corretamente'))\n",
        "  print('gasto do mês ',i,' foi de R$',x)\n",
        "  xt=xt+x\n",
        "  print('gasto total no ano R$',xt)\n",
        "print('no ano foi gasto R$',xt,'em pedagios')\n",
        "if xt==0:\n",
        "  print('gasto nulo')\n",
        "else:\n",
        "  if xt<300:\n",
        "    print('consumo moderado')\n",
        "  else:\n",
        "    print('consumo exagerado')\n"
      ],
      "metadata": {
        "colab": {
          "base_uri": "https://localhost:8080/"
        },
        "id": "nj4Kbl7VOKoR",
        "outputId": "608d5657-c837-46ad-b35e-082e6b42040c"
      },
      "execution_count": 21,
      "outputs": [
        {
          "output_type": "stream",
          "name": "stdout",
          "text": [
            "entre com o valor gasto no mês: 10\n",
            "gasto do mês  1  foi de R$ 10.0\n",
            "gasto total no ano R$ 10.0\n",
            "entre com o valor gasto no mês: 40\n",
            "gasto do mês  2  foi de R$ 40.0\n",
            "gasto total no ano R$ 50.0\n",
            "entre com o valor gasto no mês: 75\n",
            "gasto do mês  3  foi de R$ 75.0\n",
            "gasto total no ano R$ 125.0\n",
            "entre com o valor gasto no mês: -9\n",
            "valor negativo, inserir corretamente-1\n",
            "valor negativo, inserir corretamente15\n",
            "gasto do mês  4  foi de R$ 15.0\n",
            "gasto total no ano R$ 140.0\n",
            "entre com o valor gasto no mês: 10\n",
            "gasto do mês  5  foi de R$ 10.0\n",
            "gasto total no ano R$ 150.0\n",
            "entre com o valor gasto no mês: 10\n",
            "gasto do mês  6  foi de R$ 10.0\n",
            "gasto total no ano R$ 160.0\n",
            "entre com o valor gasto no mês: 0\n",
            "gasto do mês  7  foi de R$ 0.0\n",
            "gasto total no ano R$ 160.0\n",
            "entre com o valor gasto no mês: 0\n",
            "gasto do mês  8  foi de R$ 0.0\n",
            "gasto total no ano R$ 160.0\n",
            "entre com o valor gasto no mês: 9\n",
            "gasto do mês  9  foi de R$ 9.0\n",
            "gasto total no ano R$ 169.0\n",
            "entre com o valor gasto no mês: 75\n",
            "gasto do mês  10  foi de R$ 75.0\n",
            "gasto total no ano R$ 244.0\n",
            "entre com o valor gasto no mês: 9\n",
            "gasto do mês  11  foi de R$ 9.0\n",
            "gasto total no ano R$ 253.0\n",
            "entre com o valor gasto no mês: 2\n",
            "gasto do mês  12  foi de R$ 2.0\n",
            "gasto total no ano R$ 255.0\n",
            "no ano foi gasto R$ 255.0 em pedagios\n",
            "consumo moderado\n"
          ]
        }
      ]
    }
  ]
}