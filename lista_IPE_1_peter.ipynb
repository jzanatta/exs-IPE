{
  "nbformat": 4,
  "nbformat_minor": 0,
  "metadata": {
    "colab": {
      "name": "lista IPE 1 - peter",
      "provenance": [],
      "authorship_tag": "ABX9TyNZs4bvyiaStkNALi7MhS3o",
      "include_colab_link": true
    },
    "kernelspec": {
      "name": "python3",
      "display_name": "Python 3"
    },
    "language_info": {
      "name": "python"
    }
  },
  "cells": [
    {
      "cell_type": "markdown",
      "metadata": {
        "id": "view-in-github",
        "colab_type": "text"
      },
      "source": [
        "<a href=\"https://colab.research.google.com/github/jzanatta/exs-IPE/blob/main/lista_IPE_1_peter.ipynb\" target=\"_parent\"><img src=\"https://colab.research.google.com/assets/colab-badge.svg\" alt=\"Open In Colab\"/></a>"
      ]
    },
    {
      "cell_type": "code",
      "execution_count": 5,
      "metadata": {
        "colab": {
          "base_uri": "https://localhost:8080/"
        },
        "id": "p_CAu9P3bscP",
        "outputId": "19fbf7ba-c7a4-444b-f3a1-191797221e45"
      },
      "outputs": [
        {
          "output_type": "stream",
          "name": "stdout",
          "text": [
            "joao, 20 anos, jundiai\n"
          ]
        }
      ],
      "source": [
        "#EX 1\n",
        "nome = ('joao')\n",
        "idade = ('20 anos')\n",
        "cidade = ('jundiai')\n",
        "print(nome+',', idade+',', cidade)"
      ]
    },
    {
      "cell_type": "code",
      "source": [
        "#EX 2\n",
        "nome = input('nome: ')\n",
        "idade = input('idade: ')\n",
        "cidade = input('cidade: ')\n",
        "print(nome+',', idade+',', cidade)"
      ],
      "metadata": {
        "colab": {
          "base_uri": "https://localhost:8080/"
        },
        "id": "G5zPGbGvcnNl",
        "outputId": "4146f130-de34-48c2-b82a-81abdf33239c"
      },
      "execution_count": 6,
      "outputs": [
        {
          "output_type": "stream",
          "name": "stdout",
          "text": [
            "nome: joao\n",
            "idade: 20 anos\n",
            "cidade: jundiai\n",
            "joao, 20 anos, jundiai\n"
          ]
        }
      ]
    },
    {
      "cell_type": "code",
      "source": [
        "#EX 3\n",
        "x = int(input('indique X: '))\n",
        "y = int(input('indique Y: '))\n",
        "print(x,'+', y, '=', x+y)\n",
        "print(x,'-', y, '=', x-y)\n",
        "print(x,'*', y, '=', x*y)\n",
        "print(x,'/', y, '=', x/y)\n",
        "print(x,'//', y, '=', x//y)\n",
        "print(x,'%', y, '=', x%y)\n",
        "print(x,'^', y, '=', x**y)"
      ],
      "metadata": {
        "colab": {
          "base_uri": "https://localhost:8080/"
        },
        "id": "i0fiWGM6dYbd",
        "outputId": "1736285d-2001-4468-db03-6bd24c080f24"
      },
      "execution_count": 14,
      "outputs": [
        {
          "output_type": "stream",
          "name": "stdout",
          "text": [
            "indique X: 5\n",
            "indique Y: 2\n",
            "5 + 2 = 7\n",
            "5 - 2 = 3\n",
            "5 * 2 = 10\n",
            "5 / 2 = 2.5\n",
            "5 // 2 = 2\n",
            "5 % 2 = 1\n",
            "5 ^ 2 = 25\n"
          ]
        }
      ]
    },
    {
      "cell_type": "code",
      "source": [
        "#EX 4\n",
        "c = float(input('qual a temperatura em C°? '))\n",
        "f = ((c*9)/5+32)\n",
        "print(c, 'convertido para fahrenheit é ', f)"
      ],
      "metadata": {
        "colab": {
          "base_uri": "https://localhost:8080/"
        },
        "id": "2NP2JAlMekIV",
        "outputId": "88cc79de-d606-4843-c3d8-455bdf4aac7f"
      },
      "execution_count": 18,
      "outputs": [
        {
          "output_type": "stream",
          "name": "stdout",
          "text": [
            "qual a temperatura em C°? 31\n",
            "31.0 convertido para fahrenheit é  87.8\n"
          ]
        }
      ]
    },
    {
      "cell_type": "code",
      "source": [
        "#EX 5\n",
        "m = float(input('qual a distancia em milhas? '))\n",
        "km = (m*1.60934)\n",
        "print(m, 'milhas é igual a ', km, 'quilometros')\n"
      ],
      "metadata": {
        "colab": {
          "base_uri": "https://localhost:8080/"
        },
        "id": "V0BAKt0nf7Nu",
        "outputId": "1fa5ba50-8a86-476c-f435-e5b6c0d636d4"
      },
      "execution_count": 21,
      "outputs": [
        {
          "output_type": "stream",
          "name": "stdout",
          "text": [
            "qual a distancia em milhas? 1\n",
            "1.0 milhas é igual a  1.60934 quilometros\n"
          ]
        }
      ]
    },
    {
      "cell_type": "code",
      "source": [
        "#EX 6\n",
        "a = float(input('entre com a variavel a: '))\n",
        "b = float(input('entre com a variavel b: '))\n",
        "c = float(input('entre com a variavel c: '))\n",
        "d = (b**2 - 4*a*c)\n",
        "print('o delta dessa equação de segudo grau é: ', d)"
      ],
      "metadata": {
        "colab": {
          "base_uri": "https://localhost:8080/"
        },
        "id": "YbddQXB2ghQx",
        "outputId": "7515b06b-d3ed-4d3c-b7e3-c2ef7f77da1a"
      },
      "execution_count": 26,
      "outputs": [
        {
          "output_type": "stream",
          "name": "stdout",
          "text": [
            "entre com a variavel a: -2\n",
            "entre com a variavel b: 2\n",
            "entre com a variavel c: 2\n",
            "o delta dessa equação de segudo grau é:  20.0\n"
          ]
        }
      ]
    },
    {
      "cell_type": "code",
      "source": [
        "#EX 7\n",
        "pe = float(input('qual o preço do litro do etanol? '))\n",
        "pg = float(input('qual o preço do litro da gasolina? '))\n",
        "pte = (pe*50) #preço do tanque de etanol\n",
        "ptg = (pg*50) #preço do tanque de gasolina\n",
        "vr = (pe/pg) #valor relativo do etanol em relaçao a gasolina\n",
        "pepg = (pg/pe) #quanto litros de etanol eu compro com o valor de um litro de gasolina\n",
        "print('um tanque de 50 L cheio de etanol custa R$', pte)\n",
        "print('um tanque de 50 L cheio de gasolina custa R$', ptg)\n",
        "print('o valor relativo do etanol em relação a gasolina é de R$', vr)\n",
        "print('com o valor de um litro de gasolina eu compro', pepg, ' litros de etanol')\n",
        "\n"
      ],
      "metadata": {
        "colab": {
          "base_uri": "https://localhost:8080/"
        },
        "id": "O-8RGml7iUpY",
        "outputId": "04f45bdf-2e93-4d6c-c527-5d0c70153e9c"
      },
      "execution_count": 29,
      "outputs": [
        {
          "output_type": "stream",
          "name": "stdout",
          "text": [
            "qual o preço do litro do etanol? 3.5\n",
            "qual o preço do litro da gasolina? 5\n",
            "um tanque de 50 L cheio de etanol custa R$ 175.0\n",
            "um tanque de 50 L cheio de gasolina custa R$ 250.0\n",
            "o valor relativo do etanol em relação a gasolina é de R$ 0.7\n",
            "com o valor de um litro de gasolina eu compro 1.4285714285714286  litros de etanol\n"
          ]
        }
      ]
    },
    {
      "cell_type": "code",
      "source": [
        "#EX 8\n",
        "print('entre com as medidas (em M ) do salão: ')\n",
        "ls = float(input('largura: ')) \n",
        "cs = float(input('comprimento: '))\n",
        "print('entre com as medidas (em mm ) do azulejo: ')\n",
        "lamm = float(input('largura: ')) #em mm\n",
        "camm = float(input('comprimento: ')) #em mm\n",
        "la = (lamm/100) #convertendo para M\n",
        "ca = (camm/100) #convertendo para M\n",
        "pl = (ls/la) #peças necessarias para cobrir a largura do salão\n",
        "print('serão necessarios ', pl, ' azulejos para cubrir uma fileira do piso do salão')\n",
        "As = (ls*cs) #area salão\n",
        "Aa = (la*ca) #area azulejo\n",
        "x = (As/Aa) #total de peças necessarias para cubrir o salão inteiro\n",
        "print('o total de azulejos para cobrir o salão inteiro é de ', x, ' peças')"
      ],
      "metadata": {
        "colab": {
          "base_uri": "https://localhost:8080/"
        },
        "id": "tKcNMgpOlpV6",
        "outputId": "9221542b-f67f-4186-8551-398b1c117916"
      },
      "execution_count": 31,
      "outputs": [
        {
          "output_type": "stream",
          "name": "stdout",
          "text": [
            "entre com as medidas (em M ) do salão: \n",
            "largura: 12\n",
            "comprimento: 20\n",
            "entre com as medidas (em mm ) do azulejo: \n",
            "largura: 50\n",
            "comprimento: 50\n",
            "serão necessarios  24.0  azulejos para cubrir uma fileira do piso do salão\n",
            "o total de azulejos para cobrir o salão inteiro é de  960.0  peças\n"
          ]
        }
      ]
    }
  ]
}