{
  "nbformat": 4,
  "nbformat_minor": 0,
  "metadata": {
    "colab": {
      "provenance": [],
      "authorship_tag": "ABX9TyMd8HiwsxQzMPpKABOo8ocM",
      "include_colab_link": true
    },
    "kernelspec": {
      "name": "python3",
      "display_name": "Python 3"
    },
    "language_info": {
      "name": "python"
    }
  },
  "cells": [
    {
      "cell_type": "markdown",
      "metadata": {
        "id": "view-in-github",
        "colab_type": "text"
      },
      "source": [
        "<a href=\"https://colab.research.google.com/github/jzanatta/exs-IPE/blob/main/CrivoDeErastotenes.ipynb\" target=\"_parent\"><img src=\"https://colab.research.google.com/assets/colab-badge.svg\" alt=\"Open In Colab\"/></a>"
      ]
    },
    {
      "cell_type": "code",
      "execution_count": 15,
      "metadata": {
        "colab": {
          "base_uri": "https://localhost:8080/"
        },
        "id": "72EhsqLdcSgw",
        "outputId": "3f8c5eb1-2369-4426-aa95-5cbef20203f4"
      },
      "outputs": [
        {
          "output_type": "stream",
          "name": "stdout",
          "text": [
            "entre com o valor limite: 123\n",
            "os numero primos de 0 a  123  são: \n",
            "1\n",
            "2\n",
            "3\n",
            "5\n",
            "7\n",
            "11\n",
            "13\n",
            "17\n",
            "19\n",
            "23\n",
            "29\n",
            "31\n",
            "37\n",
            "41\n",
            "43\n",
            "47\n",
            "53\n",
            "59\n",
            "61\n",
            "67\n",
            "71\n",
            "73\n",
            "79\n",
            "83\n",
            "89\n",
            "97\n",
            "101\n",
            "103\n",
            "107\n",
            "109\n",
            "113\n"
          ]
        }
      ],
      "source": [
        "#crivo\n",
        "\n",
        "i=0\n",
        "n=int(input('entre com o valor limite: '))\n",
        "lista=[]\n",
        "\n",
        "n=n+1\n",
        "while i < n:\n",
        "  lista.append(True)\n",
        "  i=i+1\n",
        "\n",
        "lista[0] = False\n",
        "\n",
        "i=2\n",
        "while i < n:\n",
        "  j=3\n",
        "  while j < n:\n",
        "    if lista[j] == True:\n",
        "      if j%i == 0 and j != i: lista[j] = False\n",
        "    j=j+1 \n",
        "  i=i+1\n",
        "\n",
        "print('os numero primos de 0 a ',n-1,' são: ')\n",
        "i=0\n",
        "while i<n:\n",
        "  if lista[i] == True:\n",
        "    print(i)\n",
        "  i=i+1"
      ]
    }
  ]
}