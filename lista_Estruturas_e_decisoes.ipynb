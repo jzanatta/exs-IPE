{
  "nbformat": 4,
  "nbformat_minor": 0,
  "metadata": {
    "colab": {
      "name": "lista Estruturas e decisoes",
      "provenance": [],
      "authorship_tag": "ABX9TyMDWgCrePBkXwoVOkS1SDxA",
      "include_colab_link": true
    },
    "kernelspec": {
      "name": "python3",
      "display_name": "Python 3"
    },
    "language_info": {
      "name": "python"
    }
  },
  "cells": [
    {
      "cell_type": "markdown",
      "metadata": {
        "id": "view-in-github",
        "colab_type": "text"
      },
      "source": [
        "<a href=\"https://colab.research.google.com/github/jzanatta/exs-IPE/blob/main/lista_Estruturas_e_decisoes.ipynb\" target=\"_parent\"><img src=\"https://colab.research.google.com/assets/colab-badge.svg\" alt=\"Open In Colab\"/></a>"
      ]
    },
    {
      "cell_type": "code",
      "execution_count": null,
      "metadata": {
        "colab": {
          "base_uri": "https://localhost:8080/"
        },
        "id": "mmga7sXi4Uwh",
        "outputId": "6d986354-e7c8-4ca2-d9c5-ea46d1f2d650"
      },
      "outputs": [
        {
          "output_type": "stream",
          "name": "stdout",
          "text": [
            "entre com a distancia do trajeto: 100\n",
            "entre com o tempo gasto no trajeto em minutos: 40\n",
            "A velocidade media do trajeto foi de:  150.0\n",
            "Você tomou multa\n"
          ]
        }
      ],
      "source": [
        "#ex1\n",
        "s=float(input('entre com a distancia do trajeto: '))\n",
        "t=float(input('entre com o tempo gasto no trajeto em minutos: '))\n",
        "t=t/60\n",
        "\n",
        "v=s/t\n",
        "print('A velocidade media do trajeto foi de: ', v)\n",
        "if v > 100:\n",
        "  print('Você tomou multa')\n",
        "else:\n",
        "  print('você não tomou multa')"
      ]
    },
    {
      "cell_type": "code",
      "source": [
        "#ex2\n",
        "n=int(input('entre com um numero: '))\n",
        "if n < 0:\n",
        "  print('ele é negativo ')\n",
        "else:\n",
        "  print('ele é positivo')\n",
        "if n%2 == 0:\n",
        "  print('ele é par')\n",
        "else: \n",
        "  print('ele é impar')"
      ],
      "metadata": {
        "colab": {
          "base_uri": "https://localhost:8080/"
        },
        "id": "di3YC3TL8hCg",
        "outputId": "fe7da007-36d7-4f2a-87b2-a83d42c030d1"
      },
      "execution_count": null,
      "outputs": [
        {
          "output_type": "stream",
          "name": "stdout",
          "text": [
            "entre com um numero: -3\n",
            "ele é negativo \n",
            "ele é impar\n"
          ]
        }
      ]
    },
    {
      "cell_type": "code",
      "source": [
        "#ex3\n",
        "n1=float(input('entre com a nota 1: '))\n",
        "n2=float(input('entre com a nota 2: '))\n",
        "m=(n1+n2)/2\n",
        "print('sua média é: ',m)\n",
        "if m >= 7:\n",
        "  print('parabens, aprovado!')\n",
        "else:\n",
        "  print('reprovado')\n",
        "  n3=float(input('entre com a nota do exame: '))\n",
        "  m2=(m+n3)/2\n",
        "  print('sua media final é: ', m2)\n",
        "  if m2 >= 5:\n",
        "    print('você foi aprovado')\n",
        "  else:\n",
        "      print('você foi reprovado')"
      ],
      "metadata": {
        "colab": {
          "base_uri": "https://localhost:8080/"
        },
        "id": "9Od4g2-9-MK7",
        "outputId": "164f3e75-b36c-44c3-aa4b-29f485ca689c"
      },
      "execution_count": null,
      "outputs": [
        {
          "output_type": "stream",
          "name": "stdout",
          "text": [
            "entre com a nota 1: 4\n",
            "entre com a nota 2: 2\n",
            "sua média é:  3.0\n",
            "reprovado\n",
            "entre com a nota do exame: 9\n",
            "sua media final é:  6.0\n",
            "você foi aprovado\n"
          ]
        }
      ]
    },
    {
      "cell_type": "code",
      "source": [
        "#ex4\n",
        "b=float(input('entre com o valor da base: '))\n",
        "if b > 0:\n",
        "  h=float(input('entre com o valor da altura: '))\n",
        "  if h > 0:\n",
        "    a=b*h/2\n",
        "    print('o valor da area é: ',a)\n",
        "  else:\n",
        "    print('valor deve ser maior que zero')\n",
        "else:\n",
        "  print('valor deve ser maior que zero')"
      ],
      "metadata": {
        "colab": {
          "base_uri": "https://localhost:8080/"
        },
        "id": "4KI-RpkoAy8_",
        "outputId": "870d39ac-e5b6-49ec-c1a3-3c9617815e57"
      },
      "execution_count": null,
      "outputs": [
        {
          "output_type": "stream",
          "name": "stdout",
          "text": [
            "entre com o valor da base: 4\n",
            "entre com o valor da altura: -4\n",
            "valor deve ser maior que zero\n"
          ]
        }
      ]
    },
    {
      "cell_type": "code",
      "source": [
        "#ex5\n",
        "import math\n",
        "a=int(input(\"entre com o valor de a: \"))\n",
        "b=int(input(\"entre com o valor de b: \"))\n",
        "c=int(input(\"entre com o valor de c: \"))\n",
        "d=b**2-4*a*c\n",
        "if a==0:\n",
        "  print(\"a nao pode ser 0\")\n",
        "else:\n",
        "  if d<0:\n",
        "    print(\"nao existe raizes\")\n",
        "  else:\n",
        "    r1=(-b + math.sqrt(d))/(2*a)\n",
        "    print(r1)\n",
        "    if d==0:\n",
        "       print(\"fim\")\n",
        "    else:\n",
        "         r2=(-b - math.sqrt(d))/(2*a)\n",
        "         print(r2)"
      ],
      "metadata": {
        "colab": {
          "base_uri": "https://localhost:8080/"
        },
        "id": "XZYBbNMmDSlB",
        "outputId": "a4fc1dd5-7f1c-4e24-8d0e-5aab161013b6"
      },
      "execution_count": null,
      "outputs": [
        {
          "output_type": "stream",
          "name": "stdout",
          "text": [
            "entre com o valor de a: 1\n",
            "entre com o valor de b: 8\n",
            "entre com o valor de c: -9\n",
            "1.0\n",
            "-9.0\n"
          ]
        }
      ]
    },
    {
      "cell_type": "code",
      "source": [
        "#ex6\n",
        "idade=int(input(\"entre com a idade:\"))\n",
        "v=float(input(\"entre com o valor:\")) \n",
        "if idade in range (13,64):\n",
        "  print('o valor do ingresso é: ', v)\n",
        "else:\n",
        "  v=v/2\n",
        "  print('0 valor do ingresso é', v)"
      ],
      "metadata": {
        "colab": {
          "base_uri": "https://localhost:8080/"
        },
        "id": "5BK_YpfCJjjA",
        "outputId": "6a6c93e7-7213-4375-b24c-ea660c5b540b"
      },
      "execution_count": null,
      "outputs": [
        {
          "output_type": "stream",
          "name": "stdout",
          "text": [
            "entre com a idade:13\n",
            "entre com o valor:20\n",
            "o valor do ingresso é:  20.0\n"
          ]
        }
      ]
    }
  ]
}