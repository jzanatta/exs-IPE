{
  "nbformat": 4,
  "nbformat_minor": 0,
  "metadata": {
    "colab": {
      "provenance": [],
      "authorship_tag": "ABX9TyOabZCDo1TRuVvwnoVfHac6",
      "include_colab_link": true
    },
    "kernelspec": {
      "name": "python3",
      "display_name": "Python 3"
    },
    "language_info": {
      "name": "python"
    }
  },
  "cells": [
    {
      "cell_type": "markdown",
      "metadata": {
        "id": "view-in-github",
        "colab_type": "text"
      },
      "source": [
        "<a href=\"https://colab.research.google.com/github/jzanatta/exs-IPE/blob/main/APScripto.ipynb\" target=\"_parent\"><img src=\"https://colab.research.google.com/assets/colab-badge.svg\" alt=\"Open In Colab\"/></a>"
      ]
    },
    {
      "cell_type": "code",
      "execution_count": 5,
      "metadata": {
        "id": "NEl8oxj3_McB",
        "colab": {
          "base_uri": "https://localhost:8080/"
        },
        "outputId": "007250a2-bb5e-4968-859e-9052b111e41f"
      },
      "outputs": [
        {
          "output_type": "stream",
          "name": "stdout",
          "text": [
            "entre com a mensagem a ser criptografada: sos guarda costeira brasileira solicita ajuda pois capturamos navios cheios de lixo toxico radioativo\n",
            "ENTRE COM SUAS QUATRO CHAVES DE CRIPTOGRAFIA: (valores de 0 até 80)\n",
            "chave 1: 46\n",
            "chave 2: 59\n",
            "chave 3: 12\n",
            "chave 4: 66\n",
            "\n",
            "SEU CÓDIGO É: \n",
            "ktdlzzmcwflogxeqawmluwmdaqqujfldgquoaymltofptea axlotuefjfy kezmnn dshtqatdlwjlxab lltiuvtlctiu tyugg\n",
            "\n",
            "compartilhe o código e lembresse que quem estiver o recebendo precisa saber suas chaves para decodificalo\n",
            "suas chaves são:  46 59 12 66\n"
          ]
        }
      ],
      "source": [
        "#APS - CRIPTOGRAFAR\n",
        "\n",
        "alfabeto=[' ','a','b','c','d','e','f','g','h','i','j','k','l','m','n','o','p','q','r','s','t','u','v','w','x','y','z',' ','a','b','c','d','e','f','g','h','i','j','k','l','m','n','o','p','q','r','s','t','u','v','w','x','y','z',' ','a','b','c','d','e','f','g','h','i','j','k','l','m','n','o','p','q','r','s','t','u','v','w','x','y','z',' ','a','b','c','d','e','f','g','h','i','j','k','l','m','n','o','p','q','r','s','t','u','v','w','x','y','z']\n",
        "mensagem=str(input('entre com a mensagem a ser criptografada: '))\n",
        "\n",
        "mensagem=mensagem.lower()\n",
        "\n",
        "qtd_caracteres=len(mensagem) \n",
        "while qtd_caracteres > 128: \n",
        "    mensagem=str(input('mensagem de tamanho invalido, no maximo 128 caracteres: '))\n",
        "    qtd_caracteres=len(mensagem)\n",
        "\n",
        "print('ENTRE COM SUAS QUATRO CHAVES DE CRIPTOGRAFIA: (valores de 0 até 80)') \n",
        "c1=int(input('chave 1: '))\n",
        "while c1<0 or c1>80: c1=int(input('valor invalido, tente novamente: '))\n",
        "c2=int(input('chave 2: '))\n",
        "while c2<0 or c2>80: c2=int(input('valor invalido, tente novamente: '))\n",
        "c3=int(input('chave 3: '))\n",
        "while c3<0 or c3>80: c3=int(input('valor invalido, tente novamente: '))\n",
        "c4=int(input('chave 4: '))\n",
        "while c4<0 or c4>80: c4=int(input('valor invalido, tente novamente: '))\n",
        "\n",
        "codigo=''\n",
        "i=0\n",
        "while i < qtd_caracteres:\n",
        "    x=((alfabeto.index(mensagem[i]))+c1) \n",
        "    codigo=codigo + alfabeto[x] \n",
        "    i=i+1\n",
        "    if i < qtd_caracteres:\n",
        "        x=((alfabeto.index(mensagem[i]))+c2)\n",
        "        codigo=codigo + alfabeto[x]\n",
        "        i=i+1\n",
        "        if i < qtd_caracteres:\n",
        "            x=((alfabeto.index(mensagem[i]))+c3)\n",
        "            codigo=codigo + alfabeto[x]\n",
        "            i=i+1\n",
        "            if i < qtd_caracteres:\n",
        "                x=((alfabeto.index(mensagem[i]))+c4)\n",
        "                codigo=codigo + alfabeto[x]\n",
        "                i=i+1\n",
        "\n",
        "print('\\nSEU CÓDIGO É: ')\n",
        "print(codigo)\n",
        "print('\\ncompartilhe o código e lembresse que quem estiver o recebendo precisa saber suas chaves para decodificalo')\n",
        "print('suas chaves são: ',c1,c2,c3,c4)"
      ]
    },
    {
      "cell_type": "code",
      "source": [
        "#APS - DESCRIPTOGRAFAR\n",
        "\n",
        "alfabeto=[' ','a','b','c','d','e','f','g','h','i','j','k','l','m','n','o','p','q','r','s','t','u','v','w','x','y','z',' ','a','b','c','d','e','f','g','h','i','j','k','l','m','n','o','p','q','r','s','t','u','v','w','x','y','z',' ','a','b','c','d','e','f','g','h','i','j','k','l','m','n','o','p','q','r','s','t','u','v','w','x','y','z']\n",
        "mensagem=str(input('entre com a mensagem critografada: '))\n",
        "\n",
        "qtd_caracteres=len(mensagem) \n",
        "while qtd_caracteres > 128: \n",
        "    mensagem=str(input('mensagem de tamanho invalido, no maximo 128 caracteres: '))\n",
        "    qtd_caracteres=len(mensagem)\n",
        "\n",
        "print('ENTRE COM AS CHAVES DE DESCRIPTOGRAFIA: ')\n",
        "c1=int(input('entre com a chave 1: '))\n",
        "c2=int(input('entre com a chave 2: '))\n",
        "c3=int(input('entre com a chave 3: '))\n",
        "c4=int(input('entre com a chave 4: '))\n",
        "\n",
        "while c1 > 27:\n",
        "  c1= c1-27\n",
        "\n",
        "while c2 > 27:\n",
        "  c2= c2-27\n",
        "\n",
        "while c3 > 27:\n",
        "  c3= c3-27\n",
        "\n",
        "while c4 > 27:\n",
        "  c4= c4-27\n",
        "\n",
        "segredo=''\n",
        "i=0\n",
        "while i < qtd_caracteres:\n",
        "    x=((alfabeto.index(mensagem[i]))-c1) \n",
        "    segredo=segredo + alfabeto[x] \n",
        "    i=i+1\n",
        "    if i < qtd_caracteres:\n",
        "        x=((alfabeto.index(mensagem[i]))-c2)\n",
        "        segredo=segredo + alfabeto[x]\n",
        "        i=i+1\n",
        "        if i < qtd_caracteres:\n",
        "            x=((alfabeto.index(mensagem[i]))-c3)\n",
        "            segredo=segredo + alfabeto[x]\n",
        "            i=i+1\n",
        "            if i < qtd_caracteres:\n",
        "                x=((alfabeto.index(mensagem[i]))-c4)\n",
        "                segredo=segredo + alfabeto[x]\n",
        "                i=i+1\n",
        "\n",
        "print('SEU SEGREDO É: ')\n",
        "print('\"',segredo,'\"')"
      ],
      "metadata": {
        "colab": {
          "base_uri": "https://localhost:8080/"
        },
        "id": "EpfX6chw_OZR",
        "outputId": "653918ed-ede6-4427-a409-37ff81abc16e"
      },
      "execution_count": 6,
      "outputs": [
        {
          "output_type": "stream",
          "name": "stdout",
          "text": [
            "entre com a mensagem critografada: ktdlzzmcwflogxeqawmluwmdaqqujfldgquoaymltofptea axlotuefjfy kezmnn dshtqatdlwjlxab lltiuvtlctiu tyugg\n",
            "ENTRE COM AS CHAVES DE DESCRIPTOGRAFIA: \n",
            "entre com a chave 1: 46\n",
            "entre com a chave 2: 59\n",
            "entre com a chave 3: 12\n",
            "entre com a chave 4: 66\n",
            "SEU SEGREDO É: \n",
            "\" sos guarda costeira brasileira solicita ajuda pois capturamos navios cheios de lixo toxico radioativo \"\n"
          ]
        }
      ]
    }
  ]
}