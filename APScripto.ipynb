{
  "nbformat": 4,
  "nbformat_minor": 0,
  "metadata": {
    "colab": {
      "provenance": [],
      "authorship_tag": "ABX9TyMgososhcXGvUh8lO644/iq",
      "include_colab_link": true
    },
    "kernelspec": {
      "name": "python3",
      "display_name": "Python 3"
    },
    "language_info": {
      "name": "python"
    }
  },
  "cells": [
    {
      "cell_type": "markdown",
      "metadata": {
        "id": "view-in-github",
        "colab_type": "text"
      },
      "source": [
        "<a href=\"https://colab.research.google.com/github/jzanatta/exs-IPE/blob/main/APScripto.ipynb\" target=\"_parent\"><img src=\"https://colab.research.google.com/assets/colab-badge.svg\" alt=\"Open In Colab\"/></a>"
      ]
    },
    {
      "cell_type": "code",
      "execution_count": 8,
      "metadata": {
        "colab": {
          "base_uri": "https://localhost:8080/"
        },
        "id": "NEl8oxj3_McB",
        "outputId": "de3372be-3b46-44de-c0ff-277eecde66f9"
      },
      "outputs": [
        {
          "output_type": "stream",
          "name": "stdout",
          "text": [
            "entre com a mensagem a ser critografada: amanha teremos uma surpresa\n",
            "ENTRE COM SUAS QUATRO CHAVES DE CRIPTOGRAFIA: (valores de 0 até 80)\n",
            "chave 1: 80\n",
            "chave 2: 55\n",
            "chave 3: 74\n",
            "chave 4: 12\n",
            "\n",
            "SEU CÓDIGO É: \n",
            " nuzgbtedsyynttflbtdtsicdtu\n",
            "\n",
            "compartilhe o código e lembresse que quem estiver o recebendo precisa saber suas chaves para decodificalo\n",
            "suas chaves são:  80 55 74 12\n"
          ]
        }
      ],
      "source": [
        "#APS - CRIPTOGRAFAR\n",
        "\n",
        "alfabeto=[' ','a','b','c','d','e','f','g','h','i','j','k','l','m','n','o','p','q','r','s','t','u','v','w','x','y','z',' ','a','b','c','d','e','f','g','h','i','j','k','l','m','n','o','p','q','r','s','t','u','v','w','x','y','z',' ','a','b','c','d','e','f','g','h','i','j','k','l','m','n','o','p','q','r','s','t','u','v','w','x','y','z',' ','a','b','c','d','e','f','g','h','i','j','k','l','m','n','o','p','q','r','s','t','u','v','w','x','y','z']\n",
        "mensagem=str(input('entre com a mensagem a ser criptografada: '))\n",
        "\n",
        "mensagem=mensagem.lower()\n",
        "\n",
        "qtd_caracteres=len(mensagem) \n",
        "while qtd_caracteres > 128: \n",
        "    mensagem=str(input('mensagem de tamanho invalido, no maximo 128 caracteres: '))\n",
        "    qtd_caracteres=len(mensagem)\n",
        "\n",
        "print('ENTRE COM SUAS QUATRO CHAVES DE CRIPTOGRAFIA: (valores de 0 até 80)') \n",
        "c1=int(input('chave 1: '))\n",
        "while c1<0 or c1>80: c1=int(input('valor invalido, tente novamente: '))\n",
        "c2=int(input('chave 2: '))\n",
        "while c2<0 or c2>80: c2=int(input('valor invalido, tente novamente: '))\n",
        "c3=int(input('chave 3: '))\n",
        "while c3<0 or c3>80: c3=int(input('valor invalido, tente novamente: '))\n",
        "c4=int(input('chave 4: '))\n",
        "while c4<0 or c4>80: c4=int(input('valor invalido, tente novamente: '))\n",
        "\n",
        "codigo=''\n",
        "i=0\n",
        "while i < qtd_caracteres:\n",
        "    x=((alfabeto.index(mensagem[i]))+c1) \n",
        "    codigo=codigo + alfabeto[x] \n",
        "    i=i+1\n",
        "    if i < qtd_caracteres:\n",
        "        x=((alfabeto.index(mensagem[i]))+c2)\n",
        "        codigo=codigo + alfabeto[x]\n",
        "        i=i+1\n",
        "        if i < qtd_caracteres:\n",
        "            x=((alfabeto.index(mensagem[i]))+c3)\n",
        "            codigo=codigo + alfabeto[x]\n",
        "            i=i+1\n",
        "            if i < qtd_caracteres:\n",
        "                x=((alfabeto.index(mensagem[i]))+c4)\n",
        "                codigo=codigo + alfabeto[x]\n",
        "                i=i+1\n",
        "\n",
        "print('\\nSEU CÓDIGO É: ')\n",
        "print(codigo)\n",
        "print('\\ncompartilhe o código e lembresse que quem estiver o recebendo precisa saber suas chaves para decodificalo')\n",
        "print('suas chaves são: ',c1,c2,c3,c4)"
      ]
    },
    {
      "cell_type": "code",
      "source": [
        "#APS - DESCRIPTOGRAFAR\n",
        "\n",
        "alfabeto=[' ','a','b','c','d','e','f','g','h','i','j','k','l','m','n','o','p','q','r','s','t','u','v','w','x','y','z',' ','a','b','c','d','e','f','g','h','i','j','k','l','m','n','o','p','q','r','s','t','u','v','w','x','y','z',' ','a','b','c','d','e','f','g','h','i','j','k','l','m','n','o','p','q','r','s','t','u','v','w','x','y','z']\n",
        "mensagem=str(input('entre com a mensagem critografada: '))\n",
        "print('ENTRE COM AS CHAVES DE DESCRIPTOGRAFIA: ')\n",
        "c1=int(input('entre com a chave 1:'))\n",
        "c2=int(input('entre com a chave 2:'))\n",
        "c3=int(input('entre com a chave 3:'))\n",
        "c4=int(input('entre com a chave 4:'))\n",
        "\n",
        "segredo=''\n",
        "i=0\n",
        "while i < qtd_caracteres:\n",
        "    x=((alfabeto.index(mensagem[i]))-c1) \n",
        "    segredo=segredo + alfabeto[x] \n",
        "    i=i+1\n",
        "    if i < qtd_caracteres:\n",
        "        x=((alfabeto.index(mensagem[i]))-c2)\n",
        "        segredo=segredo + alfabeto[x]\n",
        "        i=i+1\n",
        "        if i < qtd_caracteres:\n",
        "            x=((alfabeto.index(mensagem[i]))-c3)\n",
        "            segredo=segredo + alfabeto[x]\n",
        "            i=i+1\n",
        "            if i < qtd_caracteres:\n",
        "                x=((alfabeto.index(mensagem[i]))-c4)\n",
        "                segredo=segredo + alfabeto[x]\n",
        "                i=i+1\n",
        "\n",
        "print('SEU SEGREDO É: ')\n",
        "print('\"',segredo,'\"')"
      ],
      "metadata": {
        "colab": {
          "base_uri": "https://localhost:8080/"
        },
        "id": "EpfX6chw_OZR",
        "outputId": "3af2f0ea-54a5-4928-be81-fc118b1f432b"
      },
      "execution_count": 10,
      "outputs": [
        {
          "output_type": "stream",
          "name": "stdout",
          "text": [
            "entre com a mensagem critografada:  nuzgbtedsyynttflbtdtsicdtu\n",
            "ENTRE COM AS CHAVES DE DESCRIPTOGRAFIA: \n",
            "entre com a chave 1:80\n",
            "entre com a chave 2:55\n",
            "entre com a chave 3:74\n",
            "entre com a chave 4:12\n",
            "SEU SEGREDO É: \n",
            "\" amanha teremos uma surpresa \"\n"
          ]
        }
      ]
    }
  ]
}